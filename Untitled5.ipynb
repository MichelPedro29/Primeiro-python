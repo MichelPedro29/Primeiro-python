{
  "nbformat": 4,
  "nbformat_minor": 0,
  "metadata": {
    "colab": {
      "name": "Untitled3.ipynb",
      "provenance": [],
      "authorship_tag": "ABX9TyM2kCc9uMIoXUKCHt8FmWvC",
      "include_colab_link": true
    },
    "kernelspec": {
      "name": "python3",
      "display_name": "Python 3"
    },
    "language_info": {
      "name": "python"
    }
  },
  "cells": [
    {
      "cell_type": "markdown",
      "metadata": {
        "id": "view-in-github",
        "colab_type": "text"
      },
      "source": [
        "<a href=\"https://colab.research.google.com/github/MichelPedro29/Primeiro-python/blob/main/Untitled5.ipynb\" target=\"_parent\"><img src=\"https://colab.research.google.com/assets/colab-badge.svg\" alt=\"Open In Colab\"/></a>"
      ]
    },
    {
      "cell_type": "code",
      "execution_count": 46,
      "metadata": {
        "colab": {
          "base_uri": "https://localhost:8080/"
        },
        "id": "yAT-lGkD40q-",
        "outputId": "8e8ce35d-056d-44a2-b855-15a64dd1bdbb"
      },
      "outputs": [
        {
          "output_type": "stream",
          "name": "stdout",
          "text": [
            "Digite um número pra ser somado (0 finaliza): 900\n",
            "Digite um número pra ser somado (0 finaliza): 120\n",
            "Digite um número pra ser somado (0 finaliza): 1800\n",
            "Digite um número pra ser somado (0 finaliza): 0\n",
            "A média dos numeros é  940.0\n"
          ]
        }
      ],
      "source": [
        "'''\n",
        "Laços infinitos\n",
        "Crie um programa que solicite ao usuário vários números e, ao digitar 0, \n",
        "calcule a média dos números informados.\n",
        "'''\n",
        "soma = 0\n",
        "i = 0\n",
        "while(True):\n",
        "  numero = int(input('Digite um número pra ser somado (0 finaliza): '))\n",
        "  if numero != 0:\n",
        "    soma += numero\n",
        "    i += 1\n",
        "  else:\n",
        "    break\n",
        "print(f'A média dos numeros é  {soma/i}')"
      ]
    },
    {
      "cell_type": "code",
      "source": [
        ""
      ],
      "metadata": {
        "id": "havdfmLP1Y9C"
      },
      "execution_count": null,
      "outputs": []
    }
  ]
}