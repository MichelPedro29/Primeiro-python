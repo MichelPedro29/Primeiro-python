{
  "nbformat": 4,
  "nbformat_minor": 0,
  "metadata": {
    "colab": {
      "name": "Untitled3.ipynb",
      "provenance": [],
      "authorship_tag": "ABX9TyNZ/SP/junJ4s5f47msnDQI",
      "include_colab_link": true
    },
    "kernelspec": {
      "name": "python3",
      "display_name": "Python 3"
    },
    "language_info": {
      "name": "python"
    }
  },
  "cells": [
    {
      "cell_type": "markdown",
      "metadata": {
        "id": "view-in-github",
        "colab_type": "text"
      },
      "source": [
        "<a href=\"https://colab.research.google.com/github/MichelPedro29/Primeiro-python/blob/main/Untitled5.ipynb\" target=\"_parent\"><img src=\"https://colab.research.google.com/assets/colab-badge.svg\" alt=\"Open In Colab\"/></a>"
      ]
    },
    {
      "cell_type": "code",
      "execution_count": 39,
      "metadata": {
        "colab": {
          "base_uri": "https://localhost:8080/"
        },
        "id": "yAT-lGkD40q-",
        "outputId": "6b3fe5cf-f142-4489-f147-dc2f05dba269"
      },
      "outputs": [
        {
          "output_type": "stream",
          "name": "stdout",
          "text": [
            "Digite um número pra ser somado (0 finaliza): 15\n",
            "Digite um número pra ser somado (0 finaliza): 12\n",
            "Digite um número pra ser somado (0 finaliza): 10\n",
            "Digite um número pra ser somado (0 finaliza): 0\n",
            "A soma total é 37\n"
          ]
        }
      ],
      "source": [
        "'''\n",
        "Laços infinitos\n",
        "Crie um programa que solicite ao usuário vários números e, ao digitar 0, \n",
        "calcule a média dos números informados.\n",
        "'''\n",
        "soma = 0\n",
        "while(True):\n",
        "  numero = int(input('Digite um número pra ser somado (0 finaliza): '))\n",
        "  if numero != 0:\n",
        "    soma += numero\n",
        "  else:\n",
        "    break\n",
        "\n",
        "print(f'A soma total é {soma}')"
      ]
    }
  ]
}