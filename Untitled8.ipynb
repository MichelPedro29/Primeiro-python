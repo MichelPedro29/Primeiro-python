{
  "nbformat": 4,
  "nbformat_minor": 0,
  "metadata": {
    "colab": {
      "provenance": [],
      "authorship_tag": "ABX9TyMjXrbH4gxJlZqWkkqk1hry",
      "include_colab_link": true
    },
    "kernelspec": {
      "name": "python3",
      "display_name": "Python 3"
    },
    "language_info": {
      "name": "python"
    }
  },
  "cells": [
    {
      "cell_type": "markdown",
      "metadata": {
        "id": "view-in-github",
        "colab_type": "text"
      },
      "source": [
        "<a href=\"https://colab.research.google.com/github/MichelPedro29/Primeiro-python/blob/main/Untitled8.ipynb\" target=\"_parent\"><img src=\"https://colab.research.google.com/assets/colab-badge.svg\" alt=\"Open In Colab\"/></a>"
      ]
    },
    {
      "cell_type": "code",
      "execution_count": null,
      "metadata": {
        "id": "TVyCfBfVrNJr"
      },
      "outputs": [],
      "source": [
        "'''Crie um programa que solicite o tamanho da matriz desejada, \n",
        "gerando a matriz-identidade'''\n",
        "\n",
        "tamanho = int(input('Digite o tamanho da matriz identidade: '))\n",
        "matriz_identidade = []\n",
        "for i in range(tamanho):\n",
        "  matriz_identidade.append([])\n",
        "  for j in range(tamanho):\n",
        "    if i == j:\n",
        "      matriz_identidade[i].append(1)\n",
        "    else:\n",
        "      matriz_identidade[i].append(0)\n",
        "for i in range(0, tamanho):\n",
        "  print(matriz_identidade[i])"
      ]
    }
  ]
}