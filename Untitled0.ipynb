{
  "nbformat": 4,
  "nbformat_minor": 0,
  "metadata": {
    "colab": {
      "name": "Untitled0.ipynb",
      "provenance": [],
      "collapsed_sections": [],
      "authorship_tag": "ABX9TyPM69zDy9axXSaACco/0A7w",
      "include_colab_link": true
    },
    "kernelspec": {
      "name": "python3",
      "display_name": "Python 3"
    },
    "language_info": {
      "name": "python"
    }
  },
  "cells": [
    {
      "cell_type": "markdown",
      "metadata": {
        "id": "view-in-github",
        "colab_type": "text"
      },
      "source": [
        "<a href=\"https://colab.research.google.com/github/MichelPedro29/Primeiro-python/blob/main/Untitled0.ipynb\" target=\"_parent\"><img src=\"https://colab.research.google.com/assets/colab-badge.svg\" alt=\"Open In Colab\"/></a>"
      ]
    },
    {
      "cell_type": "code",
      "execution_count": null,
      "metadata": {
        "colab": {
          "base_uri": "https://localhost:8080/"
        },
        "id": "IdjfI1an9Zqy",
        "outputId": "073a66ab-0d50-41d0-e288-ab212d2a570e"
      },
      "outputs": [
        {
          "output_type": "stream",
          "name": "stdout",
          "text": [
            "Digite um numero: 10\n",
            "Digite um numero: 10\n",
            "Digite um numero: 10\n",
            "Digite um numero: 19\n",
            "Digite um numero: 19\n",
            "Digite um numero: 20\n",
            "Digite um numero: 20\n",
            "Digite um numero: 20\n",
            "Digite um numero: 19\n",
            "Digite um numero: 19\n",
            "A quantidade de numeros pares é: 6\n"
          ]
        }
      ],
      "source": [
        "par = 0\n",
        "impar = 0\n",
        "for i in range(10):\n",
        "  num = int(input('Digite um numero: '))\n",
        "  if num%2 == 0:\n",
        "    par += 1\n",
        "  else:\n",
        "    impar+=1\n",
        "  if i==10:\n",
        "    break\n",
        "print(f'A quantidade de numeros pares é: {par}')\n",
        "print(f'A quantidade de numeros impares é: {impar}')\n"
      ]
    },
    {
      "cell_type": "code",
      "source": [
        ""
      ],
      "metadata": {
        "id": "dLIwZFbljrOe"
      },
      "execution_count": null,
      "outputs": []
    },
    {
      "cell_type": "markdown",
      "source": [
        ""
      ],
      "metadata": {
        "id": "kcjs-qPajrqc"
      }
    },
    {
      "cell_type": "code",
      "source": [
        ""
      ],
      "metadata": {
        "id": "MfkC6f9xJEhR"
      },
      "execution_count": null,
      "outputs": []
    },
    {
      "cell_type": "markdown",
      "source": [
        ""
      ],
      "metadata": {
        "id": "5XF3e8ByJEBN"
      }
    },
    {
      "cell_type": "code",
      "source": [
        ""
      ],
      "metadata": {
        "id": "Fx_7cNXpAL2u"
      },
      "execution_count": null,
      "outputs": []
    },
    {
      "cell_type": "markdown",
      "source": [
        ""
      ],
      "metadata": {
        "id": "iIaFmU81Axy8"
      }
    }
  ]
}