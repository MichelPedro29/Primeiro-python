{
  "nbformat": 4,
  "nbformat_minor": 0,
  "metadata": {
    "colab": {
      "name": "Untitled0.ipynb",
      "provenance": [],
      "collapsed_sections": [],
      "authorship_tag": "ABX9TyPWrpICkGwW8y67v61uMR4i",
      "include_colab_link": true
    },
    "kernelspec": {
      "name": "python3",
      "display_name": "Python 3"
    },
    "language_info": {
      "name": "python"
    }
  },
  "cells": [
    {
      "cell_type": "markdown",
      "metadata": {
        "id": "view-in-github",
        "colab_type": "text"
      },
      "source": [
        "<a href=\"https://colab.research.google.com/github/MichelPedro29/Primeiro-python/blob/main/Untitled0.ipynb\" target=\"_parent\"><img src=\"https://colab.research.google.com/assets/colab-badge.svg\" alt=\"Open In Colab\"/></a>"
      ]
    },
    {
      "cell_type": "code",
      "execution_count": 1,
      "metadata": {
        "colab": {
          "base_uri": "https://localhost:8080/"
        },
        "id": "IdjfI1an9Zqy",
        "outputId": "82081124-7116-4543-ff7b-a06a1b4f8e49"
      },
      "outputs": [
        {
          "output_type": "stream",
          "name": "stdout",
          "text": [
            "Digite um numero: 15\n",
            "Digite um numero: 12\n",
            "Digite um numero: 13\n",
            "Digite um numero: 12\n",
            "Digite um numero: 14\n",
            "Digite um numero: 16\n",
            "Digite um numero: 17\n",
            "Digite um numero: 20\n",
            "Digite um numero: 19\n",
            "Digite um numero: 29\n",
            "A quantidade de numeros pares é: 5\n",
            "A quantidade de numeros impares é: 5\n"
          ]
        }
      ],
      "source": [
        "12par = 0\n",
        "impar = 0\n",
        "for i in range(10):\n",
        "  num = int(input('Digite um numero: '))\n",
        "  if num%2 == 0:\n",
        "    par += 1\n",
        "  else:\n",
        "    impar+=1\n",
        "  if i==10:\n",
        "    break\n",
        "print(f'A quantidade de numeros pares é: {par}')\n",
        "print(f'A quantidade de numeros impares é: {impar}')\n"
      ]
    },
    {
      "cell_type": "code",
      "source": [
        ""
      ],
      "metadata": {
        "id": "dLIwZFbljrOe"
      },
      "execution_count": null,
      "outputs": []
    },
    {
      "cell_type": "markdown",
      "source": [
        ""
      ],
      "metadata": {
        "id": "kcjs-qPajrqc"
      }
    },
    {
      "cell_type": "code",
      "source": [
        ""
      ],
      "metadata": {
        "id": "MfkC6f9xJEhR"
      },
      "execution_count": null,
      "outputs": []
    },
    {
      "cell_type": "markdown",
      "source": [
        ""
      ],
      "metadata": {
        "id": "5XF3e8ByJEBN"
      }
    },
    {
      "cell_type": "code",
      "source": [
        ""
      ],
      "metadata": {
        "id": "Fx_7cNXpAL2u"
      },
      "execution_count": null,
      "outputs": []
    },
    {
      "cell_type": "markdown",
      "source": [
        ""
      ],
      "metadata": {
        "id": "iIaFmU81Axy8"
      }
    }
  ]
}