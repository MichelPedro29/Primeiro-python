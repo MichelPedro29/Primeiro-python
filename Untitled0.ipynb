{
  "nbformat": 4,
  "nbformat_minor": 0,
  "metadata": {
    "colab": {
      "name": "Untitled0.ipynb",
      "provenance": [],
      "collapsed_sections": [],
      "authorship_tag": "ABX9TyOGm0MzOEvj48SQwe/RgPiZ",
      "include_colab_link": true
    },
    "kernelspec": {
      "name": "python3",
      "display_name": "Python 3"
    },
    "language_info": {
      "name": "python"
    }
  },
  "cells": [
    {
      "cell_type": "markdown",
      "metadata": {
        "id": "view-in-github",
        "colab_type": "text"
      },
      "source": [
        "<a href=\"https://colab.research.google.com/github/MichelPedro29/Primeiro-python/blob/main/Untitled0.ipynb\" target=\"_parent\"><img src=\"https://colab.research.google.com/assets/colab-badge.svg\" alt=\"Open In Colab\"/></a>"
      ]
    },
    {
      "cell_type": "code",
      "execution_count": 4,
      "metadata": {
        "colab": {
          "base_uri": "https://localhost:8080/"
        },
        "id": "IdjfI1an9Zqy",
        "outputId": "3c0c19d7-f62c-454e-c381-33f5ec437b87"
      },
      "outputs": [
        {
          "output_type": "stream",
          "name": "stdout",
          "text": [
            "Digite um numero: 1\n",
            "Digite um numero: 2\n",
            "Digite um numero: 3\n",
            "Digite um numero: 4\n",
            "Digite um numero: 5\n",
            "Digite um numero: 6\n",
            "Digite um numero: 7\n",
            "Digite um numero: 8\n",
            "Digite um numero: 9\n",
            "Digite um numero: 10\n",
            "A quantidade de numeros pares é: 5\n",
            "A quantidade de numeros impares é: 5\n"
          ]
        }
      ],
      "source": [
        "'''\n",
        "Crie um programa que solicite ao usuário dez números, contando quantos são pares\n",
        " e quantos são ímpares e informando ao final essas informações.\n",
        "'''\n",
        "par = 0\n",
        "impar = 0\n",
        "for i in range(10):\n",
        "  num = int(input('Digite um numero: '))\n",
        "  if num%2 == 0:\n",
        "    par += 1\n",
        "  else:\n",
        "    impar+=1\n",
        "print(f'A quantidade de numeros pares é: {par}')2\n",
        "print(f'A quantidade de numeros impares é: {impar}')\n"
      ]
    },
    {
      "cell_type": "markdown",
      "source": [
        ""
      ],
      "metadata": {
        "id": "kcjs-qPajrqc"
      }
    },
    {
      "cell_type": "markdown",
      "source": [
        ""
      ],
      "metadata": {
        "id": "5XF3e8ByJEBN"
      }
    },
    {
      "cell_type": "markdown",
      "source": [
        ""
      ],
      "metadata": {
        "id": "iIaFmU81Axy8"
      }
    }
  ]
}