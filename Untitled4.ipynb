{
  "nbformat": 4,
  "nbformat_minor": 0,
  "metadata": {
    "colab": {
      "name": "Untitled3.ipynb",
      "provenance": [],
      "authorship_tag": "ABX9TyM0bwoX5JKteK+GYh9yLaXM",
      "include_colab_link": true
    },
    "kernelspec": {
      "name": "python3",
      "display_name": "Python 3"
    },
    "language_info": {
      "name": "python"
    }
  },
  "cells": [
    {
      "cell_type": "markdown",
      "metadata": {
        "id": "view-in-github",
        "colab_type": "text"
      },
      "source": [
        "<a href=\"https://colab.research.google.com/github/MichelPedro29/Primeiro-python/blob/main/Untitled4.ipynb\" target=\"_parent\"><img src=\"https://colab.research.google.com/assets/colab-badge.svg\" alt=\"Open In Colab\"/></a>"
      ]
    },
    {
      "cell_type": "code",
      "execution_count": 27,
      "metadata": {
        "colab": {
          "base_uri": "https://localhost:8080/"
        },
        "id": "yAT-lGkD40q-",
        "outputId": "1816e19b-7f06-4d68-e464-724a1068c978"
      },
      "outputs": [
        {
          "output_type": "stream",
          "name": "stdout",
          "text": [
            "Digite o seu login: Segundo\n",
            "Agora digite a sua senha: Segundo\n",
            "O login deve ser diferente da senha!!\n",
            "Digite o seu login: Michel\n",
            "Agora digite a sua senha: terceiro\n",
            "Bem-vindo, cadastro feito com sucesso!!\n"
          ]
        }
      ],
      "source": [
        "'''\n",
        "Laços infinitos\n",
        "Crie um programa que peça para o usuário inserir um login e uma senha.Caso os\n",
        "valores sejam iguais, informar que os dados são inválidos e pedir novamente as\n",
        "informações. Caso contrário, exibir a mensagem \"Bem-vindo ao sistema!\".\n",
        "'''\n",
        "while(True):\n",
        "  login = input('Digite o seu login: ')\n",
        "  senha = input('Agora digite a sua senha: ')\n",
        "  if login == senha:\n",
        "    print('O login deve ser diferente da senha!!')\n",
        "  else:\n",
        "    break\n",
        "print('Bem-vindo, cadastro feito com sucesso!!')"
      ]
    }
  ]
}