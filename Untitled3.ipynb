{
  "nbformat": 4,
  "nbformat_minor": 0,
  "metadata": {
    "colab": {
      "name": "Untitled3.ipynb",
      "provenance": [],
      "authorship_tag": "ABX9TyPu2e9doYt9KSx7yrEwpqZl",
      "include_colab_link": true
    },
    "kernelspec": {
      "name": "python3",
      "display_name": "Python 3"
    },
    "language_info": {
      "name": "python"
    }
  },
  "cells": [
    {
      "cell_type": "markdown",
      "metadata": {
        "id": "view-in-github",
        "colab_type": "text"
      },
      "source": [
        "<a href=\"https://colab.research.google.com/github/MichelPedro29/Primeiro-python/blob/main/Untitled3.ipynb\" target=\"_parent\"><img src=\"https://colab.research.google.com/assets/colab-badge.svg\" alt=\"Open In Colab\"/></a>"
      ]
    },
    {
      "cell_type": "code",
      "execution_count": 18,
      "metadata": {
        "colab": {
          "base_uri": "https://localhost:8080/"
        },
        "id": "yAT-lGkD40q-",
        "outputId": "44295d01-5e25-467c-9bf3-314f1361b690"
      },
      "outputs": [
        {
          "output_type": "stream",
          "name": "stdout",
          "text": [
            "Digite o numerador: 9\n",
            "Digite o expoente: 2\n",
            "9 elevado a 2 é 81\n"
          ]
        }
      ],
      "source": [
        "'''\n",
        "Crie um programa que peça dois números ao usuário – o primeiro será o numerador \n",
        "e o segundo, o expoente. A saída do programa deve ser o resultado da operação:\n",
        "numerador elevado ao expoente.\n",
        "'''\n",
        "num = int(input('Digite o numerador: '))\n",
        "exp = int(input('Digite o expoente: '))\n",
        "copianum = num\n",
        "if exp == 0:\n",
        "  print(f'{num} elevado a {exp} é 1')\n",
        "elif exp == 1:\n",
        "  print(f'{num} elevado a {exp} é {num}')\n",
        "else:\n",
        "  for i in range(1, exp):\n",
        "    num = num*copianum\n",
        "  print(f'{copianum} elevado a {exp} é {num}')"
      ]
    }
  ]
}