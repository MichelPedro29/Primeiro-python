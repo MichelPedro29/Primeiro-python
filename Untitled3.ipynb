{
  "nbformat": 4,
  "nbformat_minor": 0,
  "metadata": {
    "colab": {
      "name": "Untitled3.ipynb",
      "provenance": [],
      "authorship_tag": "ABX9TyNIlCTSpnHENZrQiOKK0vC+",
      "include_colab_link": true
    },
    "kernelspec": {
      "name": "python3",
      "display_name": "Python 3"
    },
    "language_info": {
      "name": "python"
    }
  },
  "cells": [
    {
      "cell_type": "markdown",
      "metadata": {
        "id": "view-in-github",
        "colab_type": "text"
      },
      "source": [
        "<a href=\"https://colab.research.google.com/github/MichelPedro29/Primeiro-python/blob/main/Untitled3.ipynb\" target=\"_parent\"><img src=\"https://colab.research.google.com/assets/colab-badge.svg\" alt=\"Open In Colab\"/></a>"
      ]
    },
    {
      "cell_type": "code",
      "execution_count": 7,
      "metadata": {
        "colab": {
          "base_uri": "https://localhost:8080/"
        },
        "id": "yAT-lGkD40q-",
        "outputId": "72ce9791-eb2a-47d9-bba7-48dba02aad16"
      },
      "outputs": [
        {
          "output_type": "stream",
          "name": "stdout",
          "text": [
            "Digite um numero para saber sua tabuada: 70\n",
            "70 x 0 = 0\n",
            "70 x 1 = 70\n",
            "70 x 2 = 140\n",
            "70 x 3 = 210\n",
            "70 x 4 = 280\n",
            "70 x 5 = 350\n",
            "70 x 6 = 420\n",
            "70 x 7 = 490\n",
            "70 x 8 = 560\n",
            "70 x 9 = 630\n",
            "70 x 10 = 700\n"
          ]
        }
      ],
      "source": [
        "'''\n",
        "Crie um programa que solicite um número ao usuário e exiba a tabuada dele de \n",
        "1 a 10:\n",
        "'''\n",
        "num = int(input('Digite um numero para saber sua tabuada: '))\n",
        "resultado = 0\n",
        "for i in range(11):\n",
        "  print(f'{num} x {i} = {num*i}')"
      ]
    }
  ]
}